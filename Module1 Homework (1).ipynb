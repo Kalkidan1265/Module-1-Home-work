{
 "cells": [
  {
   "cell_type": "markdown",
   "metadata": {},
   "source": [
    "1. Print out your favorite color and write comment about what you are doing above the code."
   ]
  },
  {
   "cell_type": "code",
   "execution_count": 7,
   "metadata": {},
   "outputs": [
    {
     "name": "stdout",
     "output_type": "stream",
     "text": [
      "black\n"
     ]
    }
   ],
   "source": [
    "# print a string by putting it in the paraenthases \n",
    "\n",
    "print(\"black\")"
   ]
  },
  {
   "cell_type": "markdown",
   "metadata": {},
   "source": [
    "2. Print the sumation of numbers 1 through 10"
   ]
  },
  {
   "cell_type": "code",
   "execution_count": 8,
   "metadata": {},
   "outputs": [
    {
     "name": "stdout",
     "output_type": "stream",
     "text": [
      "55\n"
     ]
    }
   ],
   "source": [
    "#numbers to work with\n",
    "\n",
    "numb1=1\n",
    "numb2=2\n",
    "numb3=3\n",
    "numb4=4\n",
    "numb5=5\n",
    "numb6=6\n",
    "numb7=7\n",
    "numb8=8\n",
    "numb9=9\n",
    "numb10=10\n",
    "\n",
    "#add all the numbers together\n",
    "print(numb1+numb2+numb3+numb4+numb5+numb6+numb7+numb8+numb9+numb10)"
   ]
  },
  {
   "cell_type": "markdown",
   "metadata": {},
   "source": [
    "3. Print what 2 to the 8th power is."
   ]
  },
  {
   "cell_type": "code",
   "execution_count": 19,
   "metadata": {},
   "outputs": [
    {
     "name": "stdout",
     "output_type": "stream",
     "text": [
      "256\n"
     ]
    }
   ],
   "source": [
    "#let's change the value of numb1\n",
    "\n",
    "numb1=2\n",
    "\n",
    "#find the power of number\n",
    "print(numb1**8)"
   ]
  },
  {
   "cell_type": "markdown",
   "metadata": {},
   "source": [
    "4. Print the remainder of 100 divided by 11. "
   ]
  },
  {
   "cell_type": "code",
   "execution_count": 20,
   "metadata": {},
   "outputs": [
    {
     "name": "stdout",
     "output_type": "stream",
     "text": [
      "1\n"
     ]
    }
   ],
   "source": [
    "#let's change the value of numb1 and numb2\n",
    "numb1=100\n",
    "numb2=11\n",
    "\n",
    "#divide two numbers \n",
    "print(100%11)\n"
   ]
  },
  {
   "cell_type": "markdown",
   "metadata": {},
   "source": [
    "5. What is the result of adding strings: 20, 8, 77?"
   ]
  },
  {
   "cell_type": "code",
   "execution_count": 21,
   "metadata": {},
   "outputs": [
    {
     "name": "stdout",
     "output_type": "stream",
     "text": [
      "20877\n"
     ]
    }
   ],
   "source": [
    "print(\"20\" + \"8\" + \"77\")"
   ]
  },
  {
   "cell_type": "markdown",
   "metadata": {},
   "source": [
    "6. Print out 100 divided by 5"
   ]
  },
  {
   "cell_type": "code",
   "execution_count": 12,
   "metadata": {},
   "outputs": [
    {
     "name": "stdout",
     "output_type": "stream",
     "text": [
      "20.0\n"
     ]
    }
   ],
   "source": [
    "# Let's change the value of numb1,numb2\n",
    "\n",
    "numb1=100\n",
    "numb2=5\n",
    "\n",
    "#divide numbers\n",
    "print(numb1/numb2)"
   ]
  },
  {
   "cell_type": "markdown",
   "metadata": {},
   "source": [
    "7. What is the difference (subtraction) between 10/4 and 10//4?  Print out the result"
   ]
  },
  {
   "cell_type": "code",
   "execution_count": 14,
   "metadata": {},
   "outputs": [
    {
     "name": "stdout",
     "output_type": "stream",
     "text": [
      "0.5\n"
     ]
    }
   ],
   "source": [
    "\n",
    "numb1=10/4\n",
    "numb2=10//4\n",
    "\n",
    "#subtract numbers\n",
    "print(numb1-numb2)"
   ]
  },
  {
   "cell_type": "markdown",
   "metadata": {},
   "source": [
    "8. Create a variable called height and store your height value there.\n",
    "Print a sentence describing your height and use the variable in the sentence as well."
   ]
  },
  {
   "cell_type": "code",
   "execution_count": 24,
   "metadata": {},
   "outputs": [
    {
     "name": "stdout",
     "output_type": "stream",
     "text": [
      "My height is:, 5 feet 5 inches\n"
     ]
    }
   ],
   "source": [
    "height = \"5 feet 5 inches\"\n",
    "\n",
    "print(\"My height is:\", height)\n",
    "\n",
    "\n"
   ]
  },
  {
   "cell_type": "markdown",
   "metadata": {},
   "source": [
    "9. Print the same information as exercise 8 using a formatted string. "
   ]
  },
  {
   "cell_type": "code",
   "execution_count": 58,
   "metadata": {},
   "outputs": [
    {
     "name": "stdout",
     "output_type": "stream",
     "text": [
      "My height is 5 feet 5 inches\n"
     ]
    }
   ],
   "source": [
    "print(f\"My height is {height}\")"
   ]
  },
  {
   "cell_type": "markdown",
   "metadata": {},
   "source": [
    "10. Use two different (single and double) quotes in a string to print out a sentence"
   ]
  },
  {
   "cell_type": "code",
   "execution_count": 29,
   "metadata": {},
   "outputs": [
    {
     "name": "stdout",
     "output_type": "stream",
     "text": [
      "\"Hello, my name is Kal\" I said\n"
     ]
    }
   ],
   "source": [
    "print ('\"Hello, my name is Kal\" I said')"
   ]
  },
  {
   "cell_type": "markdown",
   "metadata": {},
   "source": [
    "11. Print out Hello World! 7 times each on a new line using only one line of code."
   ]
  },
  {
   "cell_type": "code",
   "execution_count": 30,
   "metadata": {},
   "outputs": [
    {
     "name": "stdout",
     "output_type": "stream",
     "text": [
      "Hello world\n",
      "Hello world\n",
      "Hello world\n",
      "Hello world\n",
      "Hello world\n",
      "Hello world\n",
      "Hello world\n",
      "\n"
     ]
    }
   ],
   "source": [
    "print(f\"Hello world\\n\"*7)"
   ]
  },
  {
   "cell_type": "markdown",
   "metadata": {},
   "source": [
    "12. Write a code to get two integers from a user. Then print out their summation, subtraction, multiplication, and division."
   ]
  },
  {
   "cell_type": "code",
   "execution_count": 33,
   "metadata": {},
   "outputs": [
    {
     "name": "stdout",
     "output_type": "stream",
     "text": [
      "Please enter a number:\t5\n",
      "Please enter another number:\t7\n"
     ]
    }
   ],
   "source": [
    "n1 = int(input(\"Please enter a number:\\t\"))\n",
    "n2 = int(input(\"Please enter another number:\\t\"))"
   ]
  },
  {
   "cell_type": "code",
   "execution_count": 63,
   "metadata": {},
   "outputs": [
    {
     "name": "stdout",
     "output_type": "stream",
     "text": [
      "Sum:\t 5 + 7 = 12\n",
      "Subtraction:\t 5 - 7 = -2\n",
      "Multiplication:\t 5 * 7 = 35\n",
      "Division:\t 5 / 7 = 0.7142857142857143\n"
     ]
    }
   ],
   "source": [
    "print(f\"Sum:\\t {n1} + {n2} = {n1 + n2}\")\n",
    "print(f\"Subtraction:\\t {n1} - {n2} = {n1 - n2}\")\n",
    "print(f\"Multiplication:\\t {n1} * {n2} = {n1 * n2}\")\n",
    "print(f\"Division:\\t {n1} / {n2} = {n1 / n2}\")"
   ]
  },
  {
   "cell_type": "markdown",
   "metadata": {},
   "source": [
    "13. You and your collegue have been tasked to write a code to get 5 numbers from a user and then print out their summation and average in a formatted string.  Your partner wrote codes below.  Now it is up to you to fix all errors."
   ]
  },
  {
   "cell_type": "code",
   "execution_count": 57,
   "metadata": {},
   "outputs": [
    {
     "name": "stdout",
     "output_type": "stream",
     "text": [
      "Enter a number: 1\n",
      "Enter a number: 2\n",
      "Enter a number: 3\n",
      "Enter a number: 4\n",
      "Enter a number: 5\n",
      " The sum is1 + 2 + 3 + 4 + 5 = 15\n",
      " Average is 3.0\n"
     ]
    }
   ],
   "source": [
    "prompt = \"Enter a number: \"\n",
    "\n",
    "numb1 = int(input(prompt))\n",
    "numb2 = int(input(prompt))\n",
    "numb3 = int(input(prompt))\n",
    "numb4 = int(input(prompt))\n",
    "numb5 = int(input(prompt))\n",
    "\n",
    "total = numb1 + numb2 + numb3 + numb4 + numb5\n",
    "avg = total / 5\n",
    "\n",
    "print(f\" The sum is{numb1} + {numb2} + {numb3} + {numb4} + {numb5} = {total}\")\n",
    "print(f\" Average is {avg}\")\n",
    "      \n"
   ]
  },
  {
   "cell_type": "code",
   "execution_count": null,
   "metadata": {},
   "outputs": [],
   "source": []
  },
  {
   "cell_type": "markdown",
   "metadata": {},
   "source": [
    "14. You and your partner have been assigned to a project to write a program to calculate the amount of runoff rain on a roof from any given rainfall.  \n",
    "\n",
    "You and your partner have figured out that to calculate the runoff from any given rainfall. \n",
    "\n",
    "You need to take the dimensions of the footprint of the roof and <b>convert them to inches</b> (ex - a 50' x 20' roof is 600\" x 240\"). The dimensions should be user submitted. \n",
    "\n",
    "Then, multiply the roof dimensions by the number of inches of rainfall. As an example, 600\" x 240\" x 1\" = 144,000 cubic inches of water for an inch of rainfall. Finally, divide that result by 231 to get the number of gallons (because 1 gallon = 231 cubic inches; 144,000/231 = 623.38).\n",
    "\n",
    "Your partner started coding before getting sick and it is up to you to finish the program."
   ]
  },
  {
   "cell_type": "code",
   "execution_count": 64,
   "metadata": {},
   "outputs": [
    {
     "name": "stdout",
     "output_type": "stream",
     "text": [
      "\n",
      "Rainfall Calculation ***\n",
      "\n",
      "Please enter the width of the roof (in feet) 2\n",
      "Please enter the length of the roof (in feet)1\n",
      "Please enter the amount of rain (in inches)23\n"
     ]
    },
    {
     "ename": "NameError",
     "evalue": "name 'Print' is not defined",
     "output_type": "error",
     "traceback": [
      "\u001b[0;31m---------------------------------------------------------------------------\u001b[0m",
      "\u001b[0;31mNameError\u001b[0m                                 Traceback (most recent call last)",
      "\u001b[0;32m<ipython-input-64-149780abf031>\u001b[0m in \u001b[0;36m<module>\u001b[0;34m\u001b[0m\n\u001b[1;32m     10\u001b[0m \u001b[0mgallons\u001b[0m\u001b[0;34m=\u001b[0m \u001b[0mtotal_rain\u001b[0m\u001b[0;34m/\u001b[0m\u001b[0;36m231\u001b[0m\u001b[0;34m\u001b[0m\u001b[0;34m\u001b[0m\u001b[0m\n\u001b[1;32m     11\u001b[0m \u001b[0;34m\u001b[0m\u001b[0m\n\u001b[0;32m---> 12\u001b[0;31m \u001b[0mPrint\u001b[0m\u001b[0;34m(\u001b[0m\u001b[0;34mf\"\\nThe amount of runoff rain is {gallons:.2f} gallons\"\u001b[0m \u001b[0;34m)\u001b[0m\u001b[0;34m\u001b[0m\u001b[0;34m\u001b[0m\u001b[0m\n\u001b[0m\u001b[1;32m     13\u001b[0m \u001b[0;34m\u001b[0m\u001b[0m\n\u001b[1;32m     14\u001b[0m \u001b[0;34m\u001b[0m\u001b[0m\n",
      "\u001b[0;31mNameError\u001b[0m: name 'Print' is not defined"
     ]
    }
   ],
   "source": [
    "print(\"\\nRainfall Calculation ***\\n\")\n",
    "\n",
    "width = float(input(\"Please enter the width of the roof (in feet) \"))\n",
    "length = float(input(\"Please enter the length of the roof (in feet)\"))\n",
    "rain = float(input(\"Please enter the amount of rain (in inches)\"))\n",
    "\n",
    "\n",
    "\n",
    "total_rain= (length*12) * (width*12)* (rain)\n",
    "gallons= total_rain/231\n",
    "\n",
    "Print(f\"\\nThe amount of runoff rain is {gallons:.2f} gallons\" )\n",
    "\n",
    "\n",
    "\n"
   ]
  },
  {
   "cell_type": "code",
   "execution_count": null,
   "metadata": {},
   "outputs": [],
   "source": []
  },
  {
   "cell_type": "markdown",
   "metadata": {},
   "source": [
    "15. A program is required to get a customer’s name, a purchase amount and a discount rate (in %). The program must compute the discount amount, sales tax (6%) and the total amount due. Using one print statement, print the customer’s name, purchase amount, discount amount, sales tax and total amount due in friendly format."
   ]
  },
  {
   "cell_type": "code",
   "execution_count": 62,
   "metadata": {},
   "outputs": [
    {
     "name": "stdout",
     "output_type": "stream",
     "text": [
      "Customer Purchase Information Program\n",
      "\n",
      "Please enter your name:\tKal\n",
      "Please enter your purchase amount:50\n",
      "Please enter your discount rate (%):30\n",
      "\n",
      "Amount:\t\t$50.00\n",
      "Discount:\t$15.00\n",
      "------------------------------\n",
      "Subtotal:\t$35.00\n",
      "Sales Tax:\t$2.10\n",
      "==============================\n",
      "Total:\t\t$37.10\n"
     ]
    }
   ],
   "source": [
    "print(f\"Customer Purchase Information Program\\n\")\n",
    "\n",
    "# get customer details and purchase information \n",
    "\n",
    "name = input(\"Please enter your name:\\t\")\n",
    "amount = float(input(\"Please enter your purchase amount:\"))\n",
    "discount = float(input(\"Please enter your discount rate (%):\")) / 100 ## ensure number is in the right format \n",
    "tax = 0.06\n",
    "\n",
    "## compute discount and totals\n",
    "\n",
    "discount_amount = amount * discount\n",
    "subtotal = amount - discount_amount\n",
    "sales_tax = subtotal * tax\n",
    "total = subtotal + sales_tax\n",
    "\n",
    "## print out customer receipt\n",
    "\n",
    "print(f\"\\nAmount:\\t\\t${amount:.2f}\")\n",
    "print(f\"Discount:\\t${discount_amount:.2f}\")\n",
    "print(\"-\" * 30)\n",
    "print(f\"Subtotal:\\t${subtotal:.2f}\")\n",
    "print(f\"Sales Tax:\\t${sales_tax:.2f}\")\n",
    "print(\"=\" * 30)\n",
    "print(f\"Total:\\t\\t${total:.2f}\")"
   ]
  },
  {
   "cell_type": "code",
   "execution_count": null,
   "metadata": {},
   "outputs": [],
   "source": []
  },
  {
   "cell_type": "code",
   "execution_count": null,
   "metadata": {},
   "outputs": [],
   "source": []
  }
 ],
 "metadata": {
  "kernelspec": {
   "display_name": "Python 3",
   "language": "python",
   "name": "python3"
  },
  "language_info": {
   "codemirror_mode": {
    "name": "ipython",
    "version": 3
   },
   "file_extension": ".py",
   "mimetype": "text/x-python",
   "name": "python",
   "nbconvert_exporter": "python",
   "pygments_lexer": "ipython3",
   "version": "3.8.8"
  }
 },
 "nbformat": 4,
 "nbformat_minor": 4
}
